{
 "cells": [
  {
   "cell_type": "code",
   "execution_count": 44,
   "metadata": {
    "collapsed": true,
    "pycharm": {
     "name": "#%%\n"
    }
   },
   "outputs": [
    {
     "data": {
      "text/plain": "0.9820627802690582"
     },
     "execution_count": 44,
     "metadata": {},
     "output_type": "execute_result"
    }
   ],
   "source": [
    "import pickle\n",
    "import joblib\n",
    "import pandas as pd\n",
    "from sklearn.ensemble import RandomForestClassifier\n",
    "from sklearn.model_selection import train_test_split\n",
    "from sklearn.metrics import accuracy_score\n",
    "from sklearn.preprocessing import LabelEncoder\n",
    "\n",
    "titanic_raw = pd.read_csv(\"../data/titanic.csv\")\n",
    "df = titanic_raw.copy()\n",
    "\n",
    "x_features = ['PassengerId', 'Pclass', 'Name', 'Sex', 'Age', 'SibSp',\n",
    "              'Parch', 'Ticket', 'Fare', 'Cabin', 'Embarked']\n",
    "y_feature = 'Survived'\n",
    "\n",
    "df_prep = df.copy()\n",
    "encoder = {}\n",
    "for feature in x_features:\n",
    "    encoder[feature] = dict(df_prep[[feature, \"Survived\"]].groupby(feature).mean()[\"Survived\"])\n",
    "    encoder[feature][\"other\"] = df_prep[\"Survived\"].astype(\"int\").mean()\n",
    "\n",
    "encoder\n",
    "for feature in encoder.keys():\n",
    "    df_prep[feature] = df_prep[feature].fillna(df_prep[feature].mode()[0])\n",
    "    df_prep[feature] = df_prep[feature].map(encoder[feature])\n",
    "\n",
    "x_features_to_train = ['Pclass', 'Sex', 'Age', 'SibSp', 'Parch', 'Ticket',\n",
    "                       'Fare', 'Cabin', 'Embarked']\n",
    "\n",
    "x_train, x_test, y_train, y_test = train_test_split(df_prep[x_features_to_train], df_prep[y_feature])\n",
    "\n",
    "model = RandomForestClassifier()\n",
    "model.fit(x_train, y_train)\n",
    "y_pred = model.predict(x_test)\n",
    "acc = accuracy_score(y_pred, y_test)\n",
    "\n",
    "joblib.dump(model, \"titanic_predictor_v1.joblib\")\n",
    "\n",
    "acc"
   ]
  }
 ],
 "metadata": {
  "kernelspec": {
   "display_name": "Python 3",
   "language": "python",
   "name": "python3"
  },
  "language_info": {
   "codemirror_mode": {
    "name": "ipython",
    "version": 2
   },
   "file_extension": ".py",
   "mimetype": "text/x-python",
   "name": "python",
   "nbconvert_exporter": "python",
   "pygments_lexer": "ipython2",
   "version": "2.7.6"
  }
 },
 "nbformat": 4,
 "nbformat_minor": 0
}