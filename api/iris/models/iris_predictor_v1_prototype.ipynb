{
 "cells": [
  {
   "cell_type": "code",
   "execution_count": 22,
   "metadata": {
    "collapsed": true,
    "pycharm": {
     "name": "#%%\n"
    }
   },
   "outputs": [
    {
     "data": {
      "text/plain": "Index(['Id', 'SepalLengthCm', 'SepalWidthCm', 'PetalLengthCm', 'PetalWidthCm',\n       'Species'],\n      dtype='object')"
     },
     "execution_count": 22,
     "metadata": {},
     "output_type": "execute_result"
    }
   ],
   "source": [
    "import pickle\n",
    "import joblib\n",
    "import pandas as pd\n",
    "from sklearn.ensemble import RandomForestClassifier\n",
    "from sklearn.model_selection import train_test_split\n",
    "from sklearn.metrics import accuracy_score\n",
    "\n",
    "iris_df_raw = pd.read_csv(\"/home/leofernanndes/dev/geral/ml-api-gateway/data/Iris.csv\")\n",
    "\n",
    "df = iris_df_raw.copy()\n",
    "# species_encoder_dict = {\n",
    "#     \"Iris-setosa\": 1,\n",
    "#     \"Iris-versicolor\": 2,\n",
    "#     \"Iris-virginica\": 3\n",
    "# }\n",
    "# df['Species'] = df['Species'].map(species_encoder_dict)\n",
    "\n",
    "x_features = ['SepalLengthCm', 'SepalWidthCm', 'PetalLengthCm', 'PetalWidthCm']\n",
    "y_feature = 'Species'\n",
    "\n",
    "x_train, x_test, y_train, y_test = train_test_split(df[x_features], df[y_feature])\n",
    "\n",
    "model = RandomForestClassifier()\n",
    "model.fit(x_train, y_train)\n",
    "y_pred = model.predict(x_test)\n",
    "acc = accuracy_score(y_pred, y_test)\n",
    "\n",
    "iris_predictor = pickle.dumps(model)\n",
    "joblib.dump(model, \"iris_predictor_v1.joblib\")\n",
    "#%\n",
    "df.columns"
   ]
  }
 ],
 "metadata": {
  "kernelspec": {
   "display_name": "Python 3",
   "language": "python",
   "name": "python3"
  },
  "language_info": {
   "codemirror_mode": {
    "name": "ipython",
    "version": 2
   },
   "file_extension": ".py",
   "mimetype": "text/x-python",
   "name": "python",
   "nbconvert_exporter": "python",
   "pygments_lexer": "ipython2",
   "version": "2.7.6"
  }
 },
 "nbformat": 4,
 "nbformat_minor": 0
}